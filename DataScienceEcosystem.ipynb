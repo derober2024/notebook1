{
 "cells": [
  {
   "cell_type": "markdown",
   "id": "caf26362-534b-4a1f-8659-f3354f18868d",
   "metadata": {
    "tags": []
   },
   "source": [
    "# Data Science Tools and Echo System"
   ]
  },
  {
   "cell_type": "markdown",
   "id": "996c5338-0e47-4c8d-85b2-cd9580794bbe",
   "metadata": {},
   "source": [
    "In this notebook, Data Science Tools and Ecosystem are summarized."
   ]
  },
  {
   "cell_type": "markdown",
   "id": "e212adca-1393-4f2c-8691-572047333801",
   "metadata": {},
   "source": [
    "Some of the popular languages that Data Scientists use are:\n",
    "1. Python\n",
    "2. SQL\n",
    "3. R\n",
    "4. Julia"
   ]
  },
  {
   "cell_type": "markdown",
   "id": "566417af-14e3-435c-9bc4-892cb2e15d98",
   "metadata": {
    "tags": []
   },
   "source": [
    "Some of the popular languages that Data Scientists use are:\n",
    "- Python\n",
    "- SQL\n",
    "- R\n",
    "- Julia"
   ]
  },
  {
   "cell_type": "markdown",
   "id": "8c98da98-2592-46d4-ae30-ea44fe3509a7",
   "metadata": {},
   "source": [
    "Some of the commonly used libraries used by Data Scientists include:\n",
    "1. TensorFlow\n",
    "2. NumPy\n",
    "3. Pandas\n",
    "4. SciKit-Learn"
   ]
  },
  {
   "cell_type": "markdown",
   "id": "b20e5e8d-6c2d-470a-a346-4f99276bb07d",
   "metadata": {},
   "source": [
    "| Data Science Tools |\n",
    "|--------------------|\n",
    "| NumPy |\n",
    "| Pandas |\n",
    "| Scikit-Learn |"
   ]
  },
  {
   "cell_type": "markdown",
   "id": "574f621c-6546-4549-8188-304699f329d4",
   "metadata": {
    "tags": []
   },
   "source": [
    "### Below are a few examples of evaluating arithmetic expressions in Python"
   ]
  },
  {
   "cell_type": "markdown",
   "id": "e694aba4-5168-470f-b6db-69c28f846d32",
   "metadata": {},
   "source": [
    "This a simple arithmetic expression to mutiply then add integers"
   ]
  },
  {
   "cell_type": "code",
   "execution_count": 1,
   "id": "97455992-20f3-4e3d-ab72-d7222ec3b565",
   "metadata": {
    "tags": []
   },
   "outputs": [
    {
     "data": {
      "text/plain": [
       "17"
      ]
     },
     "execution_count": 1,
     "metadata": {},
     "output_type": "execute_result"
    }
   ],
   "source": [
    "(3*4)+5"
   ]
  },
  {
   "cell_type": "markdown",
   "id": "7ac4409f-aa04-4907-a3ae-e57a38b82a11",
   "metadata": {},
   "source": [
    "This will convert 200 minutes to hours by diving by 60."
   ]
  },
  {
   "cell_type": "code",
   "execution_count": 3,
   "id": "23e9d285-bf01-4b67-ba37-69d6c48c9145",
   "metadata": {
    "tags": []
   },
   "outputs": [
    {
     "data": {
      "text/plain": [
       "3.3333333333333335"
      ]
     },
     "execution_count": 3,
     "metadata": {},
     "output_type": "execute_result"
    }
   ],
   "source": [
    "200/60"
   ]
  },
  {
   "cell_type": "markdown",
   "id": "545bcf7c-7096-4803-b2a6-1f26f7977e07",
   "metadata": {
    "tags": []
   },
   "source": [
    "## Author\n",
    "Daniel Roberts"
   ]
  },
  {
   "cell_type": "code",
   "execution_count": null,
   "id": "f541bbde-5622-4792-8682-62edfb36c8af",
   "metadata": {},
   "outputs": [],
   "source": []
  }
 ],
 "metadata": {
  "kernelspec": {
   "display_name": "Python",
   "language": "python",
   "name": "conda-env-python-py"
  },
  "language_info": {
   "codemirror_mode": {
    "name": "ipython",
    "version": 3
   },
   "file_extension": ".py",
   "mimetype": "text/x-python",
   "name": "python",
   "nbconvert_exporter": "python",
   "pygments_lexer": "ipython3",
   "version": "3.7.12"
  }
 },
 "nbformat": 4,
 "nbformat_minor": 5
}
